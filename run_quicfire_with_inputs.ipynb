{
 "cells": [
  {
   "cell_type": "code",
   "execution_count": 8,
   "metadata": {},
   "outputs": [],
   "source": [
    "import sys\n",
    "sys.path.append('..')\n",
    "\n",
    "import json\n",
    "import bp3d"
   ]
  },
  {
   "cell_type": "code",
   "execution_count": 9,
   "metadata": {},
   "outputs": [],
   "source": [
    "client = bp3d.Client(url='https://backburn.sdsc.edu/api') "
   ]
  },
  {
   "cell_type": "code",
   "execution_count": 10,
   "metadata": {},
   "outputs": [],
   "source": [
    "fuels_file: 'CWLFilePathInput' = \"./data/quicfire-test-fuel.json\"\n",
    "ignition_file : 'CWLFilePathInput' = \"./data/qf_ignition.dat\"\n",
    "sim_time : 'CWLIntInput' = 13800\n",
    "wind_speed : 'CWLIntInput' = 5\n",
    "wind_direction : 'CWLIntInput' = 220\n",
    "surface_moisture : 'CWLFloatInput' = 0.12\n",
    "canopy_moisture : 'CWLFloatInput' = 1.0\n",
    "steps_fire : 'CWLIntInput' = 120\n",
    "output_file : 'CWLFilePathOutput' = \"./data/quicfire-output.zip\""
   ]
  },
  {
   "cell_type": "code",
   "execution_count": 11,
   "metadata": {},
   "outputs": [
    {
     "name": "stdout",
     "output_type": "stream",
     "text": [
      "starting {'sim_time': 13800, 'fuel': {'id': 'c078eaa8-09b4-4256-9883-c209d369dc59'}, 'wind_speed': 5, 'wind_direction': 220, 'ignition': {'id': '2af0c0e8-e2d4-4a95-a224-4687ee965c59', 'perc': 100}, 'surface_moisture': 0.12, 'canopy_moisture': 1.0, 'output': {'steps_fire': 120}, 'run_id': 'unknown'}\n"
     ]
    }
   ],
   "source": [
    "with(open(fuels_file)) as fd:\n",
    "    fuel_id = json.load(fd)[\"id\"]\n",
    "    fuel = client.output(otype='fuel', id=fuel_id)\n",
    "\n",
    "#with open(ignition_json) as f:\n",
    "#    remove = json.load(f)\n",
    "#removed_fuel = client.remove_fuel(fuel, remove, name='Studhorse 5 Oct 2022, FF ALS, fuel removed')\n",
    "\n",
    "ign = client.ignition(dat=ignition_file)\n",
    "\n",
    "ens = client.ensemble(sim_time,\n",
    "    cartesian=True,\n",
    "    fuel=fuel,\n",
    "    wind_speed=wind_speed,\n",
    "    wind_direction=wind_direction,\n",
    "    ignition=ign,\n",
    "    surface_moisture=surface_moisture,\n",
    "    canopy_moisture=canopy_moisture,\n",
    "    output={\n",
    "        'steps_fire': 120,\n",
    "    }\n",
    ")\n",
    "\n",
    "ens.execute()"
   ]
  },
  {
   "cell_type": "code",
   "execution_count": 12,
   "metadata": {},
   "outputs": [
    {
     "name": "stdout",
     "output_type": "stream",
     "text": [
      "all runs failed.\n"
     ]
    }
   ],
   "source": [
    "# wait for completion\n",
    "ens.complete()"
   ]
  },
  {
   "cell_type": "code",
   "execution_count": 13,
   "metadata": {},
   "outputs": [
    {
     "data": {
      "text/html": [
       "<div>\n",
       "<style scoped>\n",
       "    .dataframe tbody tr th:only-of-type {\n",
       "        vertical-align: middle;\n",
       "    }\n",
       "\n",
       "    .dataframe tbody tr th {\n",
       "        vertical-align: top;\n",
       "    }\n",
       "\n",
       "    .dataframe thead th {\n",
       "        text-align: right;\n",
       "    }\n",
       "</style>\n",
       "<table border=\"1\" class=\"dataframe\">\n",
       "  <thead>\n",
       "    <tr style=\"text-align: right;\">\n",
       "      <th></th>\n",
       "      <th>sim_time</th>\n",
       "      <th>fuel</th>\n",
       "      <th>wind_speed</th>\n",
       "      <th>wind_direction</th>\n",
       "      <th>ignition</th>\n",
       "      <th>surface_moisture</th>\n",
       "      <th>canopy_moisture</th>\n",
       "      <th>output</th>\n",
       "      <th>run_id</th>\n",
       "      <th>st_state</th>\n",
       "      <th>st_status</th>\n",
       "      <th>st_done</th>\n",
       "    </tr>\n",
       "  </thead>\n",
       "  <tbody>\n",
       "    <tr>\n",
       "      <th>0</th>\n",
       "      <td>13800</td>\n",
       "      <td>{'id': 'c078eaa8-09b4-4256-9883-c209d369dc59'}</td>\n",
       "      <td>5</td>\n",
       "      <td>220</td>\n",
       "      <td>{'id': '2af0c0e8-e2d4-4a95-a224-4687ee965c59',...</td>\n",
       "      <td>0.12</td>\n",
       "      <td>1.0</td>\n",
       "      <td>{'steps_fire': 120}</td>\n",
       "      <td>abd22a0e-beac-4f64-a597-021fa3b2b315</td>\n",
       "      <td>FAILURE</td>\n",
       "      <td>Fortran runtime error: Bad integer for item 1 ...</td>\n",
       "      <td>0</td>\n",
       "    </tr>\n",
       "  </tbody>\n",
       "</table>\n",
       "</div>"
      ],
      "text/plain": [
       "   sim_time                                            fuel  wind_speed  \\\n",
       "0     13800  {'id': 'c078eaa8-09b4-4256-9883-c209d369dc59'}           5   \n",
       "\n",
       "   wind_direction                                           ignition  \\\n",
       "0             220  {'id': '2af0c0e8-e2d4-4a95-a224-4687ee965c59',...   \n",
       "\n",
       "   surface_moisture  canopy_moisture               output  \\\n",
       "0              0.12              1.0  {'steps_fire': 120}   \n",
       "\n",
       "                                 run_id st_state  \\\n",
       "0  abd22a0e-beac-4f64-a597-021fa3b2b315  FAILURE   \n",
       "\n",
       "                                           st_status  st_done  \n",
       "0  Fortran runtime error: Bad integer for item 1 ...        0  "
      ]
     },
     "execution_count": 13,
     "metadata": {},
     "output_type": "execute_result"
    }
   ],
   "source": [
    "ens.df"
   ]
  },
  {
   "cell_type": "code",
   "execution_count": 14,
   "metadata": {},
   "outputs": [
    {
     "data": {
      "text/plain": [
       "<bound method NDFrame._add_numeric_operations.<locals>.all of    sim_time                                            fuel  wind_speed  \\\n",
       "0     13800  {'id': 'c078eaa8-09b4-4256-9883-c209d369dc59'}           5   \n",
       "\n",
       "   wind_direction                                           ignition  \\\n",
       "0             220  {'id': '2af0c0e8-e2d4-4a95-a224-4687ee965c59',...   \n",
       "\n",
       "   surface_moisture  canopy_moisture               output  \\\n",
       "0              0.12              1.0  {'steps_fire': 120}   \n",
       "\n",
       "                                 run_id st_state  \\\n",
       "0  abd22a0e-beac-4f64-a597-021fa3b2b315  FAILURE   \n",
       "\n",
       "                                           st_status  st_done  \n",
       "0  Fortran runtime error: Bad integer for item 1 ...        0  >"
      ]
     },
     "execution_count": 14,
     "metadata": {},
     "output_type": "execute_result"
    }
   ],
   "source": [
    "ens.errors.all"
   ]
  }
 ],
 "metadata": {
  "kernelspec": {
   "display_name": "base",
   "language": "python",
   "name": "python3"
  },
  "language_info": {
   "codemirror_mode": {
    "name": "ipython",
    "version": 3
   },
   "file_extension": ".py",
   "mimetype": "text/x-python",
   "name": "python",
   "nbconvert_exporter": "python",
   "pygments_lexer": "ipython3",
   "version": "3.9.13"
  },
  "orig_nbformat": 4,
  "vscode": {
   "interpreter": {
    "hash": "82c017d9c47149941baebfd9df12dc8af1566ef9d133dab6bd4dd64e7ae6f038"
   }
  }
 },
 "nbformat": 4,
 "nbformat_minor": 2
}

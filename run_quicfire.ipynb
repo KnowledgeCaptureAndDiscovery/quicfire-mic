{
 "cells": [
  {
   "cell_type": "code",
   "execution_count": 1,
   "metadata": {},
   "outputs": [],
   "source": [
    "import sys\n",
    "sys.path.append('..')\n",
    "\n",
    "import time\n",
    "\n",
    "import bp3d\n",
    "import numpy as np\n",
    "from PIL import Image\n",
    "import matplotlib.pyplot as plt\n",
    "import zarr\n",
    "from shutil import make_archive, move"
   ]
  },
  {
   "cell_type": "code",
   "execution_count": 2,
   "metadata": {},
   "outputs": [],
   "source": [
    "client = bp3d.Client(url='https://backburn.sdsc.edu/api') "
   ]
  },
  {
   "cell_type": "code",
   "execution_count": 3,
   "metadata": {},
   "outputs": [],
   "source": [
    "lat : 'CWLStringInput' = \"39.96263\"\n",
    "lon : 'CWLStringInput' = \"-122.60203\"\n",
    "radius : 'CWLIntInput' = 500\n",
    "sim_time : 'CWLIntInput' = 20\n",
    "wind_speed : 'CWLIntInput' = 100\n",
    "wind_direction : 'CWLIntInput' = 100\n",
    "surface_moisture : 'CWLStringInput' = \"0.3\"\n",
    "canopy_moisture : 'CWLStringInput' = \"0.3\"\n",
    "steps_fire : 'CWLIntInput' = 10\n",
    "output_file : 'CWLFilePathOutput' = \"./quicfire-output.zip\""
   ]
  },
  {
   "cell_type": "code",
   "execution_count": 4,
   "metadata": {},
   "outputs": [],
   "source": [
    "# get 1km x 1km domain\n",
    "fuel = client.fuel(lat=float(lat), lon=float(lon), radius=radius)"
   ]
  },
  {
   "cell_type": "code",
   "execution_count": 5,
   "metadata": {},
   "outputs": [],
   "source": [
    "# create quicfire run\n",
    "ens = client.ensemble(fuel=fuel,\n",
    "                      sim_time=sim_time,\n",
    "                      wind_speed=wind_speed,\n",
    "                      wind_direction=wind_direction,\n",
    "                      surface_moisture=float(surface_moisture),\n",
    "                      canopy_moisture=float(canopy_moisture),\n",
    "                      output={\n",
    "                         'steps_fire':steps_fire\n",
    "                      }\n",
    ")"
   ]
  },
  {
   "cell_type": "code",
   "execution_count": 6,
   "metadata": {},
   "outputs": [
    {
     "name": "stdout",
     "output_type": "stream",
     "text": [
      "starting {'sim_time': 20, 'fuel': {'id': 'b73571e5-832a-4394-8937-24d9d5446430'}, 'wind_speed': 100, 'wind_direction': 100, 'surface_moisture': 0.3, 'canopy_moisture': 0.3, 'output': {'steps_fire': 10}, 'run_id': 'unknown'}\n"
     ]
    }
   ],
   "source": [
    "# start execution\n",
    "ens.execute()"
   ]
  },
  {
   "cell_type": "code",
   "execution_count": 7,
   "metadata": {},
   "outputs": [],
   "source": [
    "# save after excution starts to save the run ids\n",
    "ens.save('quicfire-run.bp3d.json', overwrite=True)"
   ]
  },
  {
   "cell_type": "code",
   "execution_count": 8,
   "metadata": {},
   "outputs": [
    {
     "name": "stdout",
     "output_type": "stream",
     "text": [
      "all runs failed.\n"
     ]
    }
   ],
   "source": [
    "# wait for completion\n",
    "ens.complete()"
   ]
  },
  {
   "cell_type": "code",
   "execution_count": 9,
   "metadata": {},
   "outputs": [],
   "source": [
    "# save outputs\n",
    "outs = ens.output(ens.df)\n",
    "z = outs[0].zarr"
   ]
  },
  {
   "cell_type": "code",
   "execution_count": 10,
   "metadata": {},
   "outputs": [],
   "source": [
    "output_dir = output_file + \".zarr\"\n",
    "store = zarr.NestedDirectoryStore(output_dir)\n",
    "root = zarr.group(store=store, overwrite=True)\n",
    "for name,arr in z.arrays():\n",
    "    root[name] = arr"
   ]
  },
  {
   "cell_type": "code",
   "execution_count": 11,
   "metadata": {},
   "outputs": [
    {
     "data": {
      "text/plain": [
       "'./quicfire-output.zip'"
      ]
     },
     "execution_count": 11,
     "metadata": {},
     "output_type": "execute_result"
    }
   ],
   "source": [
    "make_archive(output_file, \"zip\", output_dir)\n",
    "move(output_file + \".zip\", output_file)"
   ]
  }
 ],
 "metadata": {
  "kernelspec": {
   "display_name": "Python 3",
   "language": "python",
   "name": "python3"
  },
  "language_info": {
   "codemirror_mode": {
    "name": "ipython",
    "version": 3
   },
   "file_extension": ".py",
   "mimetype": "text/x-python",
   "name": "python",
   "nbconvert_exporter": "python",
   "pygments_lexer": "ipython3",
   "version": "3.9.1"
  },
  "vscode": {
   "interpreter": {
    "hash": "f4cdb1287e6b488985fcd8e1c3ff8942b066cc6385365a0713d0a056ce204230"
   }
  }
 },
 "nbformat": 4,
 "nbformat_minor": 4
}
